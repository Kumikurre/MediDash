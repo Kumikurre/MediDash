{
 "cells": [
  {
   "cell_type": "code",
   "execution_count": 5,
   "metadata": {},
   "outputs": [],
   "source": [
    "import mysql.connector"
   ]
  },
  {
   "cell_type": "code",
   "execution_count": 8,
   "metadata": {},
   "outputs": [],
   "source": [
    "cnx = mysql.connector.connect(user='Kan_1962', password='7SPxJWFE',\n",
    "                              host='api.awareframework.com',\n",
    "                              database='Kan_1962')\n",
    "#cnx.close()\n",
    "cursor = cnx.cursor()"
   ]
  },
  {
   "cell_type": "code",
   "execution_count": 23,
   "metadata": {},
   "outputs": [],
   "source": [
    "query = (\"SELECT DISTINCT device_id from ball_game\")\n",
    "cursor.execute(query)"
   ]
  },
  {
   "cell_type": "code",
   "execution_count": 24,
   "metadata": {},
   "outputs": [
    {
     "name": "stdout",
     "output_type": "stream",
     "text": [
      "('5f6e1a15-0558-473b-8f04-adfac8d4335d',)\n",
      "('2576162a-c51d-4975-ba33-b9a9281dd3a6',)\n",
      "('2bb0b3f1-23db-4e57-a8bb-a5cdc03d784d',)\n",
      "('31abebb6-b51d-4b9f-9250-ee7997700846',)\n"
     ]
    }
   ],
   "source": [
    "for item in cursor:\n",
    "    print(item)"
   ]
  },
  {
   "cell_type": "code",
   "execution_count": null,
   "metadata": {
    "collapsed": true
   },
   "outputs": [],
   "source": []
  }
 ],
 "metadata": {
  "kernelspec": {
   "display_name": "Python 3",
   "language": "python",
   "name": "python3"
  },
  "language_info": {
   "codemirror_mode": {
    "name": "ipython",
    "version": 3
   },
   "file_extension": ".py",
   "mimetype": "text/x-python",
   "name": "python",
   "nbconvert_exporter": "python",
   "pygments_lexer": "ipython3",
   "version": "3.6.1"
  }
 },
 "nbformat": 4,
 "nbformat_minor": 2
}
